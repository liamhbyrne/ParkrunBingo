{
 "cells": [
  {
   "cell_type": "code",
   "execution_count": 13,
   "outputs": [],
   "source": [
    "import random\n",
    "import logging\n",
    "import requests\n",
    "from bs4 import BeautifulSoup\n",
    "import pandas as pd\n",
    "import seaborn as sns"
   ],
   "metadata": {
    "collapsed": false,
    "pycharm": {
     "name": "#%%\n"
    }
   }
  },
  {
   "cell_type": "code",
   "execution_count": 14,
   "outputs": [],
   "source": [
    "def requestPage(url: str):\n",
    "        '''\n",
    "        HTTP GET page with rotating user agents\n",
    "        '''\n",
    "        user_agent_list = [\n",
    "            'Mozilla/5.0 (Macintosh; Intel Mac OS X 10_15_5) AppleWebKit/605.1.15 (KHTML, like Gecko) Version/13.1.1 Safari/605.1.15',\n",
    "            'Mozilla/5.0 (Windows NT 10.0; Win64; x64; rv:77.0) Gecko/20100101 Firefox/77.0',\n",
    "            'Mozilla/5.0 (Macintosh; Intel Mac OS X 10_15_5) AppleWebKit/537.36 (KHTML, like Gecko) Chrome/83.0.4103.97 Safari/537.36',\n",
    "            'Mozilla/5.0 (Macintosh; Intel Mac OS X 10.15; rv:77.0) Gecko/20100101 Firefox/77.0',\n",
    "            'Mozilla/5.0 (Windows NT 10.0; Win64; x64) AppleWebKit/537.36 (KHTML, like Gecko) Chrome/83.0.4103.97 Safari/537.36',\n",
    "        ]\n",
    "        next_user_agent = random.choice(user_agent_list)\n",
    "\n",
    "        try:\n",
    "            header = {'user-agent': next_user_agent}\n",
    "            response = requests.get(url, headers=header)  # Get page with random user agent\n",
    "        except requests.exceptions.ConnectionError:\n",
    "            logging.error(\"ConnectionError: Likely too many simultaneous connections\")\n",
    "            logging.warning(\"Not all pages have been scraped\")\n",
    "            return None\n",
    "\n",
    "        if response.status_code != 200:\n",
    "            logging.error(\"RESPONSE {} ON >>> {}\".format(response.status_code, url))\n",
    "            logging.warning(\"Not all pages have been scraped\")\n",
    "            return None\n",
    "\n",
    "        return response\n",
    "\n",
    "def toSoup(response):\n",
    "        '''\n",
    "        Make sure lxml parser has been installed\n",
    "        '''\n",
    "        return BeautifulSoup(response.text, \"html.parser\")"
   ],
   "metadata": {
    "collapsed": false,
    "pycharm": {
     "name": "#%%\n"
    }
   }
  },
  {
   "cell_type": "code",
   "execution_count": 15,
   "outputs": [],
   "source": [
    "parkrun_id = 2813127\n",
    "response = requestPage(f\"https://www.parkrun.org.uk/parkrunner/{parkrun_id}/all/\")\n",
    "soup = toSoup(response)"
   ],
   "metadata": {
    "collapsed": false,
    "pycharm": {
     "name": "#%%\n"
    }
   }
  },
  {
   "cell_type": "code",
   "execution_count": 25,
   "outputs": [],
   "source": [
    "tables = soup.find_all('table', {'id': 'results'})\n",
    "results = tables[2]"
   ],
   "metadata": {
    "collapsed": false,
    "pycharm": {
     "name": "#%%\n"
    }
   }
  },
  {
   "cell_type": "markdown",
   "source": [
    "Read the parkrun results table into a dataframe, and drop the minutes of each timestamp"
   ],
   "metadata": {
    "collapsed": false,
    "pycharm": {
     "name": "#%% md\n"
    }
   }
  },
  {
   "cell_type": "code",
   "execution_count": 17,
   "outputs": [
    {
     "data": {
      "text/plain": "           Event   Run Date  Run Number  Pos  Time AgeGrade  PB?\n0  Frimley Lodge 2022-06-04         571   38    42   63.69%  NaN\n1    Southampton 2022-05-28         443   89    56   62.98%  NaN\n2    Southampton 2022-05-21         442  123    27   61.46%  NaN\n3    Southampton 2022-05-14         441   95    22   61.70%  NaN\n4    Southampton 2022-05-07         440  115     0   59.92%  NaN",
      "text/html": "<div>\n<style scoped>\n    .dataframe tbody tr th:only-of-type {\n        vertical-align: middle;\n    }\n\n    .dataframe tbody tr th {\n        vertical-align: top;\n    }\n\n    .dataframe thead th {\n        text-align: right;\n    }\n</style>\n<table border=\"1\" class=\"dataframe\">\n  <thead>\n    <tr style=\"text-align: right;\">\n      <th></th>\n      <th>Event</th>\n      <th>Run Date</th>\n      <th>Run Number</th>\n      <th>Pos</th>\n      <th>Time</th>\n      <th>AgeGrade</th>\n      <th>PB?</th>\n    </tr>\n  </thead>\n  <tbody>\n    <tr>\n      <th>0</th>\n      <td>Frimley Lodge</td>\n      <td>2022-06-04</td>\n      <td>571</td>\n      <td>38</td>\n      <td>42</td>\n      <td>63.69%</td>\n      <td>NaN</td>\n    </tr>\n    <tr>\n      <th>1</th>\n      <td>Southampton</td>\n      <td>2022-05-28</td>\n      <td>443</td>\n      <td>89</td>\n      <td>56</td>\n      <td>62.98%</td>\n      <td>NaN</td>\n    </tr>\n    <tr>\n      <th>2</th>\n      <td>Southampton</td>\n      <td>2022-05-21</td>\n      <td>442</td>\n      <td>123</td>\n      <td>27</td>\n      <td>61.46%</td>\n      <td>NaN</td>\n    </tr>\n    <tr>\n      <th>3</th>\n      <td>Southampton</td>\n      <td>2022-05-14</td>\n      <td>441</td>\n      <td>95</td>\n      <td>22</td>\n      <td>61.70%</td>\n      <td>NaN</td>\n    </tr>\n    <tr>\n      <th>4</th>\n      <td>Southampton</td>\n      <td>2022-05-07</td>\n      <td>440</td>\n      <td>115</td>\n      <td>0</td>\n      <td>59.92%</td>\n      <td>NaN</td>\n    </tr>\n  </tbody>\n</table>\n</div>"
     },
     "execution_count": 17,
     "metadata": {},
     "output_type": "execute_result"
    }
   ],
   "source": [
    "df = pd.read_html(str(results))[0]\n",
    "df.drop(columns=['PB?'])  # PB column not needed\n",
    "df[\"Run Date\"] = pd.to_datetime(df[\"Run Date\"], format='%d/%m/%Y')\n",
    "df[\"Time\"].replace({r'\\d\\d:' : ''}, inplace=True, regex=True)\n",
    "df[\"Time\"] = df[\"Time\"].astype(int)\n",
    "df.head()"
   ],
   "metadata": {
    "collapsed": false,
    "pycharm": {
     "name": "#%%\n"
    }
   }
  },
  {
   "cell_type": "markdown",
   "source": [
    "## Bingo?"
   ],
   "metadata": {
    "collapsed": false,
    "pycharm": {
     "name": "#%% md\n"
    }
   }
  },
  {
   "cell_type": "markdown",
   "source": [
    "Let's take the columns we are interested in and sort them in date order"
   ],
   "metadata": {
    "collapsed": false,
    "pycharm": {
     "name": "#%% md\n"
    }
   }
  },
  {
   "cell_type": "code",
   "execution_count": 18,
   "outputs": [
    {
     "data": {
      "text/plain": "        date  Time\n0 2016-09-24     5\n1 2016-10-01    55\n2 2016-10-08    40\n3 2016-10-15    19\n4 2016-10-22    59",
      "text/html": "<div>\n<style scoped>\n    .dataframe tbody tr th:only-of-type {\n        vertical-align: middle;\n    }\n\n    .dataframe tbody tr th {\n        vertical-align: top;\n    }\n\n    .dataframe thead th {\n        text-align: right;\n    }\n</style>\n<table border=\"1\" class=\"dataframe\">\n  <thead>\n    <tr style=\"text-align: right;\">\n      <th></th>\n      <th>date</th>\n      <th>Time</th>\n    </tr>\n  </thead>\n  <tbody>\n    <tr>\n      <th>0</th>\n      <td>2016-09-24</td>\n      <td>5</td>\n    </tr>\n    <tr>\n      <th>1</th>\n      <td>2016-10-01</td>\n      <td>55</td>\n    </tr>\n    <tr>\n      <th>2</th>\n      <td>2016-10-08</td>\n      <td>40</td>\n    </tr>\n    <tr>\n      <th>3</th>\n      <td>2016-10-15</td>\n      <td>19</td>\n    </tr>\n    <tr>\n      <th>4</th>\n      <td>2016-10-22</td>\n      <td>59</td>\n    </tr>\n  </tbody>\n</table>\n</div>"
     },
     "execution_count": 18,
     "metadata": {},
     "output_type": "execute_result"
    }
   ],
   "source": [
    "bingo_df = df[['Run Date', 'Time']]\n",
    "bingo_df = bingo_df.rename(columns={'Run Date': 'date'})\n",
    "bingo_df = bingo_df.sort_values(by='date', ascending=True)\n",
    "bingo_df = bingo_df.reset_index(drop=True)\n",
    "bingo_df.head()"
   ],
   "metadata": {
    "collapsed": false,
    "pycharm": {
     "name": "#%%\n"
    }
   }
  },
  {
   "cell_type": "markdown",
   "source": [
    "This is a test query to show that we can identify a run by the seconds part of the timestamp"
   ],
   "metadata": {
    "collapsed": false,
    "pycharm": {
     "name": "#%% md\n"
    }
   }
  },
  {
   "cell_type": "code",
   "execution_count": 19,
   "outputs": [
    {
     "data": {
      "text/plain": "          date  Time\n187 2022-05-21    27",
      "text/html": "<div>\n<style scoped>\n    .dataframe tbody tr th:only-of-type {\n        vertical-align: middle;\n    }\n\n    .dataframe tbody tr th {\n        vertical-align: top;\n    }\n\n    .dataframe thead th {\n        text-align: right;\n    }\n</style>\n<table border=\"1\" class=\"dataframe\">\n  <thead>\n    <tr style=\"text-align: right;\">\n      <th></th>\n      <th>date</th>\n      <th>Time</th>\n    </tr>\n  </thead>\n  <tbody>\n    <tr>\n      <th>187</th>\n      <td>2022-05-21</td>\n      <td>27</td>\n    </tr>\n  </tbody>\n</table>\n</div>"
     },
     "execution_count": 19,
     "metadata": {},
     "output_type": "execute_result"
    }
   ],
   "source": [
    "bingo_df.loc[bingo_df['Time'] == 27]"
   ],
   "metadata": {
    "collapsed": false,
    "pycharm": {
     "name": "#%%\n"
    }
   }
  },
  {
   "cell_type": "markdown",
   "source": [
    "Remove duplicates on the number of seconds, the resulting table shows the date of when each time was first achieved"
   ],
   "metadata": {
    "collapsed": false,
    "pycharm": {
     "name": "#%% md\n"
    }
   }
  },
  {
   "cell_type": "code",
   "execution_count": 20,
   "outputs": [
    {
     "data": {
      "text/plain": "          date  Time\n0   2016-09-24     5\n1   2016-10-01    55\n2   2016-10-08    40\n3   2016-10-15    19\n4   2016-10-22    59\n5   2016-10-29    52\n6   2016-11-05     4\n7   2016-11-19    34\n9   2016-12-10    22\n10  2016-12-17    44\n12  2016-12-25    25\n13  2016-12-31    31\n14  2017-01-07    38\n16  2017-01-21    47\n18  2017-02-11    24\n21  2017-03-04    35\n24  2017-04-01    46\n25  2017-04-08    21\n26  2017-04-15    39\n27  2017-04-22     8\n28  2017-04-29    20\n30  2017-05-13    58\n31  2017-05-27    37\n32  2017-06-10    26\n33  2017-06-17    41\n34  2017-06-24     2\n35  2017-07-01     6\n37  2017-07-22    16\n38  2017-07-29    30\n39  2017-08-12    45\n43  2017-09-16    57\n46  2017-10-14    32\n47  2017-10-21    48\n49  2017-11-04     1\n54  2017-12-23    11\n55  2017-12-25    15\n59  2018-01-13    28\n63  2018-02-17    42\n65  2018-03-03     0\n72  2018-04-21     3\n73  2018-04-28    17\n77  2018-06-02    56\n79  2018-06-30    49\n82  2018-07-28     9\n88  2018-09-15    50\n91  2018-10-20    29\n97  2018-12-01    23\n98  2018-12-08    12\n110 2019-02-16    53\n112 2019-03-02    36\n117 2019-04-06    14\n118 2019-04-13    13\n125 2019-06-15    33\n127 2019-07-20    10\n134 2019-09-28    51\n138 2019-11-02    43\n163 2021-08-28    18\n169 2021-10-23    54\n187 2022-05-21    27",
      "text/html": "<div>\n<style scoped>\n    .dataframe tbody tr th:only-of-type {\n        vertical-align: middle;\n    }\n\n    .dataframe tbody tr th {\n        vertical-align: top;\n    }\n\n    .dataframe thead th {\n        text-align: right;\n    }\n</style>\n<table border=\"1\" class=\"dataframe\">\n  <thead>\n    <tr style=\"text-align: right;\">\n      <th></th>\n      <th>date</th>\n      <th>Time</th>\n    </tr>\n  </thead>\n  <tbody>\n    <tr>\n      <th>0</th>\n      <td>2016-09-24</td>\n      <td>5</td>\n    </tr>\n    <tr>\n      <th>1</th>\n      <td>2016-10-01</td>\n      <td>55</td>\n    </tr>\n    <tr>\n      <th>2</th>\n      <td>2016-10-08</td>\n      <td>40</td>\n    </tr>\n    <tr>\n      <th>3</th>\n      <td>2016-10-15</td>\n      <td>19</td>\n    </tr>\n    <tr>\n      <th>4</th>\n      <td>2016-10-22</td>\n      <td>59</td>\n    </tr>\n    <tr>\n      <th>5</th>\n      <td>2016-10-29</td>\n      <td>52</td>\n    </tr>\n    <tr>\n      <th>6</th>\n      <td>2016-11-05</td>\n      <td>4</td>\n    </tr>\n    <tr>\n      <th>7</th>\n      <td>2016-11-19</td>\n      <td>34</td>\n    </tr>\n    <tr>\n      <th>9</th>\n      <td>2016-12-10</td>\n      <td>22</td>\n    </tr>\n    <tr>\n      <th>10</th>\n      <td>2016-12-17</td>\n      <td>44</td>\n    </tr>\n    <tr>\n      <th>12</th>\n      <td>2016-12-25</td>\n      <td>25</td>\n    </tr>\n    <tr>\n      <th>13</th>\n      <td>2016-12-31</td>\n      <td>31</td>\n    </tr>\n    <tr>\n      <th>14</th>\n      <td>2017-01-07</td>\n      <td>38</td>\n    </tr>\n    <tr>\n      <th>16</th>\n      <td>2017-01-21</td>\n      <td>47</td>\n    </tr>\n    <tr>\n      <th>18</th>\n      <td>2017-02-11</td>\n      <td>24</td>\n    </tr>\n    <tr>\n      <th>21</th>\n      <td>2017-03-04</td>\n      <td>35</td>\n    </tr>\n    <tr>\n      <th>24</th>\n      <td>2017-04-01</td>\n      <td>46</td>\n    </tr>\n    <tr>\n      <th>25</th>\n      <td>2017-04-08</td>\n      <td>21</td>\n    </tr>\n    <tr>\n      <th>26</th>\n      <td>2017-04-15</td>\n      <td>39</td>\n    </tr>\n    <tr>\n      <th>27</th>\n      <td>2017-04-22</td>\n      <td>8</td>\n    </tr>\n    <tr>\n      <th>28</th>\n      <td>2017-04-29</td>\n      <td>20</td>\n    </tr>\n    <tr>\n      <th>30</th>\n      <td>2017-05-13</td>\n      <td>58</td>\n    </tr>\n    <tr>\n      <th>31</th>\n      <td>2017-05-27</td>\n      <td>37</td>\n    </tr>\n    <tr>\n      <th>32</th>\n      <td>2017-06-10</td>\n      <td>26</td>\n    </tr>\n    <tr>\n      <th>33</th>\n      <td>2017-06-17</td>\n      <td>41</td>\n    </tr>\n    <tr>\n      <th>34</th>\n      <td>2017-06-24</td>\n      <td>2</td>\n    </tr>\n    <tr>\n      <th>35</th>\n      <td>2017-07-01</td>\n      <td>6</td>\n    </tr>\n    <tr>\n      <th>37</th>\n      <td>2017-07-22</td>\n      <td>16</td>\n    </tr>\n    <tr>\n      <th>38</th>\n      <td>2017-07-29</td>\n      <td>30</td>\n    </tr>\n    <tr>\n      <th>39</th>\n      <td>2017-08-12</td>\n      <td>45</td>\n    </tr>\n    <tr>\n      <th>43</th>\n      <td>2017-09-16</td>\n      <td>57</td>\n    </tr>\n    <tr>\n      <th>46</th>\n      <td>2017-10-14</td>\n      <td>32</td>\n    </tr>\n    <tr>\n      <th>47</th>\n      <td>2017-10-21</td>\n      <td>48</td>\n    </tr>\n    <tr>\n      <th>49</th>\n      <td>2017-11-04</td>\n      <td>1</td>\n    </tr>\n    <tr>\n      <th>54</th>\n      <td>2017-12-23</td>\n      <td>11</td>\n    </tr>\n    <tr>\n      <th>55</th>\n      <td>2017-12-25</td>\n      <td>15</td>\n    </tr>\n    <tr>\n      <th>59</th>\n      <td>2018-01-13</td>\n      <td>28</td>\n    </tr>\n    <tr>\n      <th>63</th>\n      <td>2018-02-17</td>\n      <td>42</td>\n    </tr>\n    <tr>\n      <th>65</th>\n      <td>2018-03-03</td>\n      <td>0</td>\n    </tr>\n    <tr>\n      <th>72</th>\n      <td>2018-04-21</td>\n      <td>3</td>\n    </tr>\n    <tr>\n      <th>73</th>\n      <td>2018-04-28</td>\n      <td>17</td>\n    </tr>\n    <tr>\n      <th>77</th>\n      <td>2018-06-02</td>\n      <td>56</td>\n    </tr>\n    <tr>\n      <th>79</th>\n      <td>2018-06-30</td>\n      <td>49</td>\n    </tr>\n    <tr>\n      <th>82</th>\n      <td>2018-07-28</td>\n      <td>9</td>\n    </tr>\n    <tr>\n      <th>88</th>\n      <td>2018-09-15</td>\n      <td>50</td>\n    </tr>\n    <tr>\n      <th>91</th>\n      <td>2018-10-20</td>\n      <td>29</td>\n    </tr>\n    <tr>\n      <th>97</th>\n      <td>2018-12-01</td>\n      <td>23</td>\n    </tr>\n    <tr>\n      <th>98</th>\n      <td>2018-12-08</td>\n      <td>12</td>\n    </tr>\n    <tr>\n      <th>110</th>\n      <td>2019-02-16</td>\n      <td>53</td>\n    </tr>\n    <tr>\n      <th>112</th>\n      <td>2019-03-02</td>\n      <td>36</td>\n    </tr>\n    <tr>\n      <th>117</th>\n      <td>2019-04-06</td>\n      <td>14</td>\n    </tr>\n    <tr>\n      <th>118</th>\n      <td>2019-04-13</td>\n      <td>13</td>\n    </tr>\n    <tr>\n      <th>125</th>\n      <td>2019-06-15</td>\n      <td>33</td>\n    </tr>\n    <tr>\n      <th>127</th>\n      <td>2019-07-20</td>\n      <td>10</td>\n    </tr>\n    <tr>\n      <th>134</th>\n      <td>2019-09-28</td>\n      <td>51</td>\n    </tr>\n    <tr>\n      <th>138</th>\n      <td>2019-11-02</td>\n      <td>43</td>\n    </tr>\n    <tr>\n      <th>163</th>\n      <td>2021-08-28</td>\n      <td>18</td>\n    </tr>\n    <tr>\n      <th>169</th>\n      <td>2021-10-23</td>\n      <td>54</td>\n    </tr>\n    <tr>\n      <th>187</th>\n      <td>2022-05-21</td>\n      <td>27</td>\n    </tr>\n  </tbody>\n</table>\n</div>"
     },
     "execution_count": 20,
     "metadata": {},
     "output_type": "execute_result"
    }
   ],
   "source": [
    "bingo_distinct = bingo_df.drop_duplicates(subset=['Time'])\n",
    "bingo_distinct"
   ],
   "metadata": {
    "collapsed": false,
    "pycharm": {
     "name": "#%%\n"
    }
   }
  },
  {
   "cell_type": "markdown",
   "source": [
    "A simple histogram with 60 bars showing the distribution of seconds"
   ],
   "metadata": {
    "collapsed": false,
    "pycharm": {
     "name": "#%% md\n"
    }
   }
  },
  {
   "cell_type": "code",
   "execution_count": 21,
   "outputs": [
    {
     "data": {
      "text/plain": "<AxesSubplot:xlabel='Time', ylabel='Count'>"
     },
     "execution_count": 21,
     "metadata": {},
     "output_type": "execute_result"
    },
    {
     "data": {
      "text/plain": "<Figure size 432x288 with 1 Axes>",
      "image/png": "[encoded data removed]"
     },
     "metadata": {
      "needs_background": "light"
     },
     "output_type": "display_data"
    }
   ],
   "source": [
    "sns.histplot(bingo_df[\"Time\"], bins=60)"
   ],
   "metadata": {
    "collapsed": false,
    "pycharm": {
     "name": "#%%\n"
    }
   }
  },
  {
   "cell_type": "markdown",
   "source": [
    "A more broad look (6 bars, 10 second groups)"
   ],
   "metadata": {
    "collapsed": false,
    "pycharm": {
     "name": "#%% md\n"
    }
   }
  },
  {
   "cell_type": "code",
   "execution_count": 22,
   "outputs": [
    {
     "data": {
      "text/plain": "<AxesSubplot:xlabel='Time', ylabel='Count'>"
     },
     "execution_count": 22,
     "metadata": {},
     "output_type": "execute_result"
    },
    {
     "data": {
      "text/plain": "<Figure size 432x288 with 1 Axes>",
      "image/png": "[encoded data removed]"
     },
     "metadata": {
      "needs_background": "light"
     },
     "output_type": "display_data"
    }
   ],
   "source": [
    "sns.histplot(bingo_df[\"Time\"], bins=6)"
   ],
   "metadata": {
    "collapsed": false,
    "pycharm": {
     "name": "#%%\n"
    }
   }
  },
  {
   "cell_type": "markdown",
   "source": [
    "### Cumulative"
   ],
   "metadata": {
    "collapsed": false,
    "pycharm": {
     "name": "#%% md\n"
    }
   }
  },
  {
   "cell_type": "markdown",
   "source": [
    "Let's create a new column to keep track of how many of the seconds we have covered at that point"
   ],
   "metadata": {
    "collapsed": false,
    "pycharm": {
     "name": "#%% md\n"
    }
   }
  },
  {
   "cell_type": "code",
   "execution_count": 23,
   "outputs": [],
   "source": [
    "cumulative_counter = lambda row: len(bingo_df.drop_duplicates(subset=['Time']).loc[bingo_df['date'] <= row['date']].index)\n",
    "bingo_df['cumulative'] = bingo_df.apply(cumulative_counter, axis=1)"
   ],
   "metadata": {
    "collapsed": false,
    "pycharm": {
     "name": "#%%\n"
    }
   }
  },
  {
   "cell_type": "code",
   "execution_count": 24,
   "outputs": [
    {
     "data": {
      "text/plain": "<AxesSubplot:ylabel='cumulative'>"
     },
     "execution_count": 24,
     "metadata": {},
     "output_type": "execute_result"
    },
    {
     "data": {
      "text/plain": "<Figure size 432x288 with 1 Axes>",
      "image/png": "[encoded data removed]"
     },
     "metadata": {
      "needs_background": "light"
     },
     "output_type": "display_data"
    }
   ],
   "source": [
    "sns.lineplot(x=bingo_df.index, y=bingo_df['cumulative'])"
   ],
   "metadata": {
    "collapsed": false,
    "pycharm": {
     "name": "#%%\n"
    }
   }
  },
  {
   "cell_type": "markdown",
   "source": [
    "The plot above shows the number of different seconds achieved by the run count"
   ],
   "metadata": {
    "collapsed": false,
    "pycharm": {
     "name": "#%% md\n"
    }
   }
  },
  {
   "cell_type": "code",
   "execution_count": null,
   "outputs": [],
   "source": [],
   "metadata": {
    "collapsed": false,
    "pycharm": {
     "name": "#%%\n"
    }
   }
  }
 ],
 "metadata": {
  "kernelspec": {
   "display_name": "Python 3",
   "language": "python",
   "name": "python3"
  },
  "language_info": {
   "codemirror_mode": {
    "name": "ipython",
    "version": 2
   },
   "file_extension": ".py",
   "mimetype": "text/x-python",
   "name": "python",
   "nbconvert_exporter": "python",
   "pygments_lexer": "ipython2",
   "version": "2.7.6"
  }
 },
 "nbformat": 4,
 "nbformat_minor": 0
}