{
 "cells": [
  {
   "cell_type": "code",
   "execution_count": 56,
   "outputs": [],
   "source": [
    "import random\n",
    "import logging\n",
    "import requests\n",
    "from bs4 import BeautifulSoup\n",
    "import lxml\n",
    "import pandas as pd"
   ],
   "metadata": {
    "collapsed": false,
    "pycharm": {
     "name": "#%%\n"
    }
   }
  },
  {
   "cell_type": "code",
   "execution_count": 57,
   "outputs": [],
   "source": [
    "def requestPage(url: str):\n",
    "        '''\n",
    "        HTTP GET page with rotating user agents\n",
    "        '''\n",
    "        user_agent_list = [\n",
    "            'Mozilla/5.0 (Macintosh; Intel Mac OS X 10_15_5) AppleWebKit/605.1.15 (KHTML, like Gecko) Version/13.1.1 Safari/605.1.15',\n",
    "            'Mozilla/5.0 (Windows NT 10.0; Win64; x64; rv:77.0) Gecko/20100101 Firefox/77.0',\n",
    "            'Mozilla/5.0 (Macintosh; Intel Mac OS X 10_15_5) AppleWebKit/537.36 (KHTML, like Gecko) Chrome/83.0.4103.97 Safari/537.36',\n",
    "            'Mozilla/5.0 (Macintosh; Intel Mac OS X 10.15; rv:77.0) Gecko/20100101 Firefox/77.0',\n",
    "            'Mozilla/5.0 (Windows NT 10.0; Win64; x64) AppleWebKit/537.36 (KHTML, like Gecko) Chrome/83.0.4103.97 Safari/537.36',\n",
    "        ]\n",
    "        next_user_agent = random.choice(user_agent_list)\n",
    "\n",
    "        try:\n",
    "            header = {'user-agent': next_user_agent}\n",
    "            response = requests.get(url, headers=header)  # Get page with random user agent\n",
    "        except requests.exceptions.ConnectionError:\n",
    "            logging.error(\"ConnectionError: Likely too many simultaneous connections\")\n",
    "            logging.warning(\"Not all pages have been scraped\")\n",
    "            return None\n",
    "\n",
    "        if response.status_code != 200:\n",
    "            logging.error(\"RESPONSE {} ON >>> {}\".format(response.status_code, url))\n",
    "            logging.warning(\"Not all pages have been scraped\")\n",
    "            return None\n",
    "\n",
    "        return response\n",
    "\n",
    "def toSoup(response):\n",
    "        '''\n",
    "        Make sure lxml parser has been installed\n",
    "        '''\n",
    "        return BeautifulSoup(response.text, \"html.parser\")"
   ],
   "metadata": {
    "collapsed": false,
    "pycharm": {
     "name": "#%%\n"
    }
   }
  },
  {
   "cell_type": "code",
   "execution_count": 58,
   "outputs": [],
   "source": [
    "response = requestPage(\"https://www.parkrun.org.uk/parkrunner/2813127/all/\")\n",
    "soup = toSoup(response)"
   ],
   "metadata": {
    "collapsed": false,
    "pycharm": {
     "name": "#%%\n"
    }
   }
  },
  {
   "cell_type": "code",
   "execution_count": 59,
   "outputs": [],
   "source": [
    "tables = soup.find_all('table', {'id': 'results'})\n",
    "results = tables[2]"
   ],
   "metadata": {
    "collapsed": false,
    "pycharm": {
     "name": "#%%\n"
    }
   }
  },
  {
   "cell_type": "code",
   "execution_count": 63,
   "outputs": [
    {
     "data": {
      "text/plain": "           Event   Run Date  Run Number  Pos Time AgeGrade  PB?\n0  Frimley Lodge 2022-06-04         571   38   42   63.69%  NaN\n1    Southampton 2022-05-28         443   89   56   62.98%  NaN\n2    Southampton 2022-05-21         442  123   27   61.46%  NaN\n3    Southampton 2022-05-14         441   95   22   61.70%  NaN\n4    Southampton 2022-05-07         440  115   00   59.92%  NaN",
      "text/html": "<div>\n<style scoped>\n    .dataframe tbody tr th:only-of-type {\n        vertical-align: middle;\n    }\n\n    .dataframe tbody tr th {\n        vertical-align: top;\n    }\n\n    .dataframe thead th {\n        text-align: right;\n    }\n</style>\n<table border=\"1\" class=\"dataframe\">\n  <thead>\n    <tr style=\"text-align: right;\">\n      <th></th>\n      <th>Event</th>\n      <th>Run Date</th>\n      <th>Run Number</th>\n      <th>Pos</th>\n      <th>Time</th>\n      <th>AgeGrade</th>\n      <th>PB?</th>\n    </tr>\n  </thead>\n  <tbody>\n    <tr>\n      <th>0</th>\n      <td>Frimley Lodge</td>\n      <td>2022-06-04</td>\n      <td>571</td>\n      <td>38</td>\n      <td>42</td>\n      <td>63.69%</td>\n      <td>NaN</td>\n    </tr>\n    <tr>\n      <th>1</th>\n      <td>Southampton</td>\n      <td>2022-05-28</td>\n      <td>443</td>\n      <td>89</td>\n      <td>56</td>\n      <td>62.98%</td>\n      <td>NaN</td>\n    </tr>\n    <tr>\n      <th>2</th>\n      <td>Southampton</td>\n      <td>2022-05-21</td>\n      <td>442</td>\n      <td>123</td>\n      <td>27</td>\n      <td>61.46%</td>\n      <td>NaN</td>\n    </tr>\n    <tr>\n      <th>3</th>\n      <td>Southampton</td>\n      <td>2022-05-14</td>\n      <td>441</td>\n      <td>95</td>\n      <td>22</td>\n      <td>61.70%</td>\n      <td>NaN</td>\n    </tr>\n    <tr>\n      <th>4</th>\n      <td>Southampton</td>\n      <td>2022-05-07</td>\n      <td>440</td>\n      <td>115</td>\n      <td>00</td>\n      <td>59.92%</td>\n      <td>NaN</td>\n    </tr>\n  </tbody>\n</table>\n</div>"
     },
     "execution_count": 63,
     "metadata": {},
     "output_type": "execute_result"
    }
   ],
   "source": [
    "df = pd.read_html(str(results))[0]\n",
    "df.drop(columns=['PB?'])\n",
    "df[\"Run Date\"] = pd.to_datetime(df[\"Run Date\"], format='%d/%m/%Y')\n",
    "df[\"Time\"].replace({r'\\d\\d:' : ''}, inplace=True, regex=True)\n",
    "df.head()"
   ],
   "metadata": {
    "collapsed": false,
    "pycharm": {
     "name": "#%%\n"
    }
   }
  },
  {
   "cell_type": "markdown",
   "source": [
    "## Bingo?"
   ],
   "metadata": {
    "collapsed": false,
    "pycharm": {
     "name": "#%% md\n"
    }
   }
  },
  {
   "cell_type": "code",
   "execution_count": 61,
   "outputs": [],
   "source": [],
   "metadata": {
    "collapsed": false,
    "pycharm": {
     "name": "#%%\n"
    }
   }
  }
 ],
 "metadata": {
  "kernelspec": {
   "display_name": "Python 3",
   "language": "python",
   "name": "python3"
  },
  "language_info": {
   "codemirror_mode": {
    "name": "ipython",
    "version": 2
   },
   "file_extension": ".py",
   "mimetype": "text/x-python",
   "name": "python",
   "nbconvert_exporter": "python",
   "pygments_lexer": "ipython2",
   "version": "2.7.6"
  }
 },
 "nbformat": 4,
 "nbformat_minor": 0
}